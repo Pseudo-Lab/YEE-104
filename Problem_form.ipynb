{
  "nbformat": 4,
  "nbformat_minor": 0,
  "metadata": {
    "colab": {
      "provenance": []
    },
    "kernelspec": {
      "name": "python3",
      "display_name": "Python 3"
    },
    "language_info": {
      "name": "python"
    }
  },
  "cells": [
    {
      "cell_type": "markdown",
      "source": [
        "# 문제 이름(주제)"
      ],
      "metadata": {
        "id": "Kr_cDB_CFMwR"
      }
    },
    {
      "cell_type": "markdown",
      "source": [
        "주제는 자유롭게 선정하시면 됩니다. 도메인 지식을 필수적으로 사용하지 않으셔도 됩니다.\n",
        "\n",
        "\n",
        "또한 만약 사용되는 데이터가 제한되어있을 경우, 합성 데이터를 사용하셔도 무방합니다."
      ],
      "metadata": {
        "id": "qpiUIBf1S2c4"
      }
    },
    {
      "cell_type": "markdown",
      "source": [
        "__<div style=\"text-align: right\"> EE104: Introduction to Machine learning. </div>__\n",
        "_<div style=\"text-align: right\"> 고길동(gogildong.gmail.com) </div>_"
      ],
      "metadata": {
        "id": "My9Q3E_pFdlH"
      }
    },
    {
      "cell_type": "markdown",
      "source": [
        "**문제에 대한 설명을 작성해주세요.**\n",
        "\n",
        "자신이 발표한 단원과 연계되어있으며 단원에서 배운 내용으로 풀 수 있어야 합니다!\n",
        "\n",
        "만약 심화내용이거나 응용이라면 설명이 추가적으로 들어가야 합니다\n"
      ],
      "metadata": {
        "id": "sRRMgwlvFqv9"
      }
    },
    {
      "cell_type": "markdown",
      "source": [
        "<br>\n",
        "\n",
        "---\n",
        "\n",
        "<br>\n",
        "\n",
        "_**(Problem 1)**_ (문제에 대한 설명) 이때 시각화코드는 제공하시는게 좋습니다."
      ],
      "metadata": {
        "id": "59dvrEzsMtLX"
      }
    },
    {
      "cell_type": "code",
      "source": [],
      "metadata": {
        "id": "hdZr3PZtSwOl"
      },
      "execution_count": null,
      "outputs": []
    }
  ]
}